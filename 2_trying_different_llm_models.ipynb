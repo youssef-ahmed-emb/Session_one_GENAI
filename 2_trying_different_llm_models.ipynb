{
 "cells": [
  {
   "cell_type": "markdown",
   "id": "5cd35694-5f5a-4d16-8669-ec1f5bf43393",
   "metadata": {},
   "source": [
    "# Connect with alternative LLMs\n",
    "* Talk with Open Source LLMs like Llama3 and Mixtral."
   ]
  },
  {
   "cell_type": "markdown",
   "id": "398411fd-07b6-4882-9625-e87ec3751da2",
   "metadata": {},
   "source": [
    "## Intro to Groq\n",
    "* Groq is an AI Startup company. **It is not the same as Grok, the LLM from Elon Musk**.\n",
    "* It has developed a new chip call LPU (Language Processing Unit) which is specificly design to run LLMs faster and cheaper.\n",
    "* It offers a Groq Cloud where you can try Open Source LLMs like Llama3 or Mixtral.\n",
    "* **It allows you to use Llama3 or Mixtral in your apps for free using a Groq API Key with some Rate Limits**."
   ]
  },
  {
   "cell_type": "markdown",
   "id": "c06a1309-a5f5-4797-aab2-e90d77c2dde5",
   "metadata": {},
   "source": [
    "## How to get a free Groq API Key\n",
    "* Login into Groq Cloud: [https://console.groq.com/login](https://console.groq.com/login)\n",
    "* Once logged in, click on API Keys (left sidebar).\n",
    "* Create a new API Key.\n",
    "* Copy the API Key and paste it in your .env file."
   ]
  },
  {
   "cell_type": "markdown",
   "id": "be4c154f-c329-4148-a57d-ed18fcd05d32",
   "metadata": {},
   "source": [
    "## How to install Groq in your project\n",
    "If you are using uv, you do not need to install the following package because it is already pre-loaded for you.\n",
    "\n",
    "LangChain has a module for it. We can install it the same way we install other LangChain modules, using PIP or UV. Use one of the following options:\n",
    "* pip install langchain-groq\n",
    "* uv add langchain-groq"
   ]
  },
  {
   "cell_type": "markdown",
   "id": "583dcd83-520b-4dc2-a160-1578314a847e",
   "metadata": {},
   "source": [
    "## You can take a look at Groq Rate limits here\n",
    "* https://console.groq.com/settings/limits"
   ]
  },
  {
   "cell_type": "markdown",
   "id": "5c4043b0-6f4e-4834-ac5c-8f3c1427c89d",
   "metadata": {},
   "source": [
    "## Groq pricing for projects in Production\n",
    "* [Groq pricing](https://wow.groq.com/)."
   ]
  },
  {
   "cell_type": "markdown",
   "id": "0e299ed0-391d-4578-aee6-2537ce294252",
   "metadata": {},
   "source": [
    "## Let's give it a try!"
   ]
  },
  {
   "cell_type": "code",
   "execution_count": 1,
   "id": "0548e514-cf7a-4f53-8df4-b6c3d03dc696",
   "metadata": {},
   "outputs": [
    {
     "data": {
      "text/plain": [
       "True"
      ]
     },
     "execution_count": 1,
     "metadata": {},
     "output_type": "execute_result"
    }
   ],
   "source": [
    "import os\n",
    "from dotenv import load_dotenv\n",
    "load_dotenv()"
   ]
  },
  {
   "cell_type": "code",
   "execution_count": 2,
   "id": "b3e7309f-3080-4bd0-af0f-374cc642b5c0",
   "metadata": {},
   "outputs": [],
   "source": [
    "from langchain_groq import ChatGroq\n",
    "\n",
    "DeepseekChatModel = ChatGroq(\n",
    "    model=\"deepseek-r1-distill-llama-70b\"\n",
    ")"
   ]
  },
  {
   "cell_type": "code",
   "execution_count": 3,
   "id": "8527fb7a-69a1-44ab-9601-e3e259df642a",
   "metadata": {},
   "outputs": [],
   "source": [
    "LlamaChatModel = ChatGroq(\n",
    "    model=\"meta-llama/llama-4-scout-17b-16e-instruct\"\n",
    ")"
   ]
  },
  {
   "cell_type": "code",
   "execution_count": 4,
   "id": "f41aad1b-4aba-4bf4-a06d-2925a68b4828",
   "metadata": {},
   "outputs": [],
   "source": [
    "messages = [\n",
    "    (\"system\", \"You are a Football fan.\"),\n",
    "    (\"human\", \"How manyBallon d'Ors did Messi get?\"),\n",
    "]"
   ]
  },
  {
   "cell_type": "code",
   "execution_count": 5,
   "id": "df753975-ebd0-49d0-bd01-56bee372eb47",
   "metadata": {},
   "outputs": [],
   "source": [
    "llamaResponse = LlamaChatModel.invoke(messages)"
   ]
  },
  {
   "cell_type": "code",
   "execution_count": 6,
   "id": "850e5967-ea3a-434a-8aed-406f29ed89aa",
   "metadata": {},
   "outputs": [
    {
     "name": "stdout",
     "output_type": "stream",
     "text": [
      "Lionel Messi is a GOAT (Greatest of All Time) and he's won the Ballon d'Or a RECORD 8 TIMES!\n",
      "\n",
      "Those awards were in 2009, 2010, 2011, 2012, 2015, 2016, 2019, and 2021.\n",
      "\n",
      "The man's a genius on the pitch, and those awards are a testament to his incredible skills and achievements!\n"
     ]
    }
   ],
   "source": [
    "print(llamaResponse.content)"
   ]
  },
  {
   "cell_type": "code",
   "execution_count": 7,
   "id": "63ce3b58-09d0-431b-95d2-ce9c2fbb5a9e",
   "metadata": {},
   "outputs": [],
   "source": [
    "DeepseekResponse = DeepseekChatModel.invoke(messages)"
   ]
  },
  {
   "cell_type": "code",
   "execution_count": 8,
   "id": "86f5dc68-4e8d-4006-9354-5d290901b77f",
   "metadata": {},
   "outputs": [
    {
     "name": "stdout",
     "output_type": "stream",
     "text": [
      "<think>\n",
      "Okay, so I'm trying to figure out how many Ballon d'Or awards Lionel Messi has won. I know the Ballon d'Or is a prestigious award given to the best soccer player in the world each year. I remember hearing that Messi has won it several times, but I'm not exactly sure of the exact number. \n",
      "\n",
      "Let me start by recalling what I know about Messi's career. He's an Argentine player who's been with Barcelona for most of his career and recently moved to Paris Saint-Germain. He's known for his incredible skill on the field, his goal-scoring ability, and his numerous records. \n",
      "\n",
      "I think the Ballon d'Or is awarded annually by France Football, a French sports magazine. It's based on a vote by international sports journalists. The award started in 1956, so it's been around for a while. \n",
      "\n",
      "Now, I remember that both Messi and Cristiano Ronaldo have been dominating the award for many years. There was a period where they alternated wins, each pushing the other to perform better. I think Messi has more Ballon d'Or awards than Ronaldo, but I'm not certain. \n",
      "\n",
      "Let me try to list the years I think Messi won. I believe he won his first Ballon d'Or in 2009. That was a year after he helped Barcelona win the Champions League. Then, I think he won it again in 2010, 2011, and 2012. That would make four in a row. \n",
      "\n",
      "Wait, but I also remember that in 2013 and 2014, Cristiano Ronaldo won the award. So Messi didn't win those years. Then in 2015, I think Messi won it again because Barcelona had a great season, winning the treble. That would be his fifth Ballon d'Or. \n",
      "\n",
      "In 2016, I believe Ronaldo won it again after leading Portugal to the Euro championship. Then in 2017, Ronaldo won it for a fifth time, tying him with Messi at five each. \n",
      "\n",
      "But then in 2019, I think Messi won his sixth Ballon d'Or. That was after an incredible season where he scored a lot of goals and led Barcelona to another La Liga title. \n",
      "\n",
      "In 2020, the Ballon d'Or was canceled due to the COVID-19 pandemic, so no one won it that year. Then in 2021, Messi won it again after leading Argentina to the Copa America victory and having a great season with Paris Saint-Germain. \n",
      "\n",
      "Wait, but I'm a bit confused about the 2021 award. I thought maybe someone else won it, but I think it was Messi because of the Copa America win. \n",
      "\n",
      "So, adding that up: 2009, 2010, 2011, 2012, 2015, 2019, and 2021. That would make seven Ballon d'Or awards for Messi. \n",
      "\n",
      "Wait, did I count that right? Let me check the years again. 2009, 2010, 2011, 2012—that's four. Then 2015 is the fifth, 2019 the sixth, and 2021 the seventh. Yeah, that seems correct. \n",
      "\n",
      "I think I might have heard somewhere that Messi has seven Ballon d'Ors, which is a record. Cristiano Ronaldo has five, I believe. \n",
      "\n",
      "So, putting it all together, Messi has won the Ballon d'Or seven times: 2009, 2010, 2011, 2012, 2015, 2019, and 2021. That makes him the player with the most Ballon d'Or awards in history.\n",
      "</think>\n",
      "\n",
      "Lionel Messi has won the Ballon d'Or a total of seven times. His victories were in the years 2009, 2010, 2011, 2012, 2015, 2019, and 2021. This makes him the record holder for the most Ballon d'Or awards received by any player.\n"
     ]
    }
   ],
   "source": [
    "print(DeepseekResponse.content)"
   ]
  },
  {
   "cell_type": "code",
   "execution_count": 11,
   "id": "5f712d7e",
   "metadata": {},
   "outputs": [
    {
     "name": "stdout",
     "output_type": "stream",
     "text": [
      "<think>\n",
      "Alright, so I'm trying to figure out how many Ballon d'Or awards Lionel Messi has won. I'm not super familiar with all the details, but I know Messi is a really famous soccer player. I've heard about the Ballon d'Or before—it's like a big annual award for the best soccer player in the world, right? \n",
      "\n",
      "Okay, let me think. I remember that both Messi and Cristiano Ronaldo have won it several times. I think they've been dominating the award for a while. I believe Ronaldo has five, but I'm not sure about Messi. Maybe Messi has more? Or maybe they're tied? Wait, I think Messi actually has more. I recall hearing that he won it a record number of times.\n",
      "\n",
      "I think the Ballon d'Or started in 1956, so it's been around for a while. Messi started his career in the late 2000s, so he would have been eligible since then. Let me try to remember the years he won. I think he won his first one in 2009. Then maybe again in 2010, 2011, 2012... Wait, did he win four in a row? That seems a bit much, but I think he did. \n",
      "\n",
      "After that, I remember him winning it again in 2015 and maybe 2016? Or was that Ronaldo? I'm getting a bit confused. Oh wait, in 2019, I think Messi won it again, making it his sixth. Then in 2020, the award was canceled because of the pandemic. So, he didn't win that year. Then in 2021, I believe he won it again, which would make it seven times. \n",
      "\n",
      "Wait, but I'm not sure if that's correct. I thought he won it in 2021, but maybe that was another year. Let me try to list them out. 2009, 2010, 2011, 2012, 2015, 2016, 2019, and 2021? That would be eight times, but I'm not certain. I think I might be mixing up some years. \n",
      "\n",
      "Alternatively, I remember that in 2023, Karim Benzema won it, so Messi didn't get it that year. So maybe the last time he won was in 2021. That would make it seven. I think that's the number I've heard before—seven Ballon d'Or awards for Messi. So, putting it all together, Messi has won the Ballon d'Or a total of seven times.\n",
      "</think>\n",
      "\n",
      "Lionel Messi has won the Ballon d'Or a total of seven times. His victories were in the years 2009, 2010, 2011, 2012, 2015, 2019, and 2021. This makes him the record holder for the most Ballon d'Or awards won by any player."
     ]
    }
   ],
   "source": [
    "for s in DeepseekChatModel.stream(messages):\n",
    "    print(s.content, flush=True, end=\"\")"
   ]
  },
  {
   "cell_type": "code",
   "execution_count": null,
   "id": "4c103dd8",
   "metadata": {},
   "outputs": [],
   "source": []
  }
 ],
 "metadata": {
  "kernelspec": {
   "display_name": "session-one",
   "language": "python",
   "name": "python3"
  },
  "language_info": {
   "codemirror_mode": {
    "name": "ipython",
    "version": 3
   },
   "file_extension": ".py",
   "mimetype": "text/x-python",
   "name": "python",
   "nbconvert_exporter": "python",
   "pygments_lexer": "ipython3",
   "version": "3.11.13"
  }
 },
 "nbformat": 4,
 "nbformat_minor": 5
}
