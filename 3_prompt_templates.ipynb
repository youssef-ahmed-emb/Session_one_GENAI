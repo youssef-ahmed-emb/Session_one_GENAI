{
 "cells": [
  {
   "cell_type": "markdown",
   "id": "465c003a-29cf-4cfe-a0c6-d36c04ae2b37",
   "metadata": {},
   "source": [
    "# Prompts and Prompt Templates\n",
    "* Introduce programming in your conversation with the LLM."
   ]
  },
  {
   "cell_type": "code",
   "execution_count": 1,
   "id": "fecd39d0-e72e-4bc2-8a68-2fa4008ea365",
   "metadata": {},
   "outputs": [],
   "source": [
    "import os\n",
    "from dotenv import load_dotenv\n",
    "load_dotenv()\n",
    "openai_api_key = os.getenv(\"OPENAI_API_KEY\")"
   ]
  },
  {
   "cell_type": "markdown",
   "id": "c2f91601-8594-41d3-9316-d51791fc54e8",
   "metadata": {},
   "source": [
    "## Prompts and Prompt Templates\n",
    "A **prompt** is the input we provide to one language model. This input will guide the way the language model will respond.\n",
    "There are many types of prompts:\n",
    "* Plain instructions.\n",
    "* Instructions with a few examples (few-shot examples).\n",
    "* Specific context and questions appropiate for a given task.\n",
    "* Etc.\n",
    "* See the LangChain documentation about prompts [here](https://python.langchain.com/v0.1/docs/modules/model_io/prompts/quick_start/).\n",
    "\n",
    "**Prompt templates** are pre-defined prompt recipes that usually need some extra pieces to be complete. These extra pieces are variables that the user will provide.\n",
    "* Prompt templates: when we want to use sophisticated prompts with variables and other elements. A prompt template may include:\n",
    "    * instructions,\n",
    "    * few-shot examples,\n",
    "    * and specific context and questions appropriate for a given task."
   ]
  },
  {
   "cell_type": "code",
   "execution_count": 3,
   "id": "ee16056f",
   "metadata": {},
   "outputs": [
    {
     "name": "stdout",
     "output_type": "stream",
     "text": [
      "messages=[HumanMessage(content='Write a poem about Egypt', additional_kwargs={}, response_metadata={})]\n",
      "<think>\n",
      "Okay, so I need to write a poem about Egypt. Hmm, where do I start? Egypt is such a rich and ancient place with so much history, so I should probably include some of the most iconic elements. The pyramids come to mind immediately. They're like these massive structures that have stood the test of time. Maybe I can describe their grandeur and how they've endured through the centuries.\n",
      "\n",
      "Then there's the Sphinx. It's this mysterious creature with the body of a lion and the head of a human. I remember reading that it's a symbol of wisdom and power. I should capture that essence in the poem, maybe talk about its gaze being steady and wise.\n",
      "\n",
      "The Nile River is another crucial part of Egypt. It's been the lifeblood of the civilization, providing water and fertile soil for agriculture. I can personify the Nile as a serpent, moving gracefully and silently, supporting the people and the land.\n",
      "\n",
      "Egypt also has a vibrant culture with bustling markets and cities. I should include some imagery about the energy of the cities, the sounds, the smells, and the people. Maybe mention something about the atmosphere at night, with stars shining above.\n",
      "\n",
      "The desert is a significant part of Egypt's landscape too. It's vast and golden, with sands that shift in the wind. I can compare it to an endless sea, emphasizing its vastness and the feeling of time standing still there.\n",
      "\n",
      "I also want to touch on the spiritual side of Egypt. The ancient gods and pharaohs, their tombs in the Valley of the Kings. It's a place where the past and present meet, where there's a connection to the afterlife. I can talk about the whispers of the ancients and the eternal sleep of the pharaohs.\n",
      "\n",
      "Putting it all together, I think the poem should have a flow that takes the reader from the ancient ruins to the living culture, and then to the natural landscapes. Maybe start with the pyramids and Sphinx, then move to the Nile, followed by the cities, the desert, and finally the spiritual aspects.\n",
      "\n",
      "I should also consider the structure. Maybe each stanza focuses on a different aspect. Use some rhyme to give it a musical quality. I'll aim for a consistent rhythm, perhaps iambic tetrameter or something similar to keep it flowing smoothly.\n",
      "\n",
      "I need to make sure the language is vivid and evocative, using strong imagery and metaphors. For example, comparing the pyramids to titans or giants, the Sphinx as a guardian, the Nile as a serpent. These kinds of comparisons will make the poem more engaging and paint a clearer picture in the reader's mind.\n",
      "\n",
      "I should also think about the emotional tone. Egypt has a sense of timelessness and mystery, so the poem should reflect that. Maybe convey a sense of awe and wonder, as well as the enduring legacy of the civilization.\n",
      "\n",
      "Let me outline the stanzas:\n",
      "\n",
      "1. Introduction to Egypt, the land of the ancients.\n",
      "2. The pyramids and their magnificence.\n",
      "3. The Sphinx and its wisdom.\n",
      "4. The Nile River and its role in life.\n",
      "5. The cities and their vibrant culture.\n",
      "6. The desert and its vastness.\n",
      "7. The spiritual and historical aspects, the pharaohs and the afterlife.\n",
      "8. Conclusion, tying it all together, the eternal nature of Egypt.\n",
      "\n",
      "Now, I'll start drafting each stanza, keeping in mind the imagery, rhyme, and rhythm. I'll make sure each stanza flows into the next, maintaining a cohesive theme throughout the poem.\n",
      "\n",
      "I should also pay attention to the syllable count and line breaks to ensure the poem isn't too clunky. Maybe alternate between longer and shorter lines to create a dynamic feel.\n",
      "\n",
      "I think I'm ready to start writing. I'll begin with the first stanza, setting the scene of Egypt as an ancient, timeless place. Then move through each element I outlined, making sure each one is vivid and contributes to the overall picture of Egypt.\n",
      "\n",
      "I might need to revise some lines to improve the flow or imagery. It's important to read it aloud to check the rhythm and make adjustments where necessary. Maybe after writing, I'll go through each stanza and tweak any lines that don't feel quite right.\n",
      "\n",
      "Alright, time to put it all together into a cohesive poem that captures the essence of Egypt.\n",
      "</think>\n",
      "\n",
      "**Eternal Sands of Egypt**\n",
      "\n",
      "In the land where ancient secrets sleep,  \n",
      "Where whispers of the past softly creep,  \n",
      "A world of mystery and might does stand,  \n",
      "In Egypt's heart, where time expands.\n",
      "\n",
      "The pyramids, like titans of old,  \n",
      "Their peaks kissed by the sun's warm gold,  \n",
      "Enduring giants, steadfast and true,  \n",
      "Guarding tales of pharaohs anew.\n",
      "\n",
      "The Sphinx, with lion's grace and human gaze,  \n",
      "A sentinel of wisdom's ancient ways,  \n",
      "In silent vigil, through the ages stands,  \n",
      "Where desert winds weave shifting sands.\n",
      "\n",
      "The Nile, a serpent, dark and deep,  \n",
      "Through fertile plains its vigil keeps,  \n",
      "Nourishing life with waters kind,  \n",
      "A lifeline where all hearts and minds entwine.\n",
      "\n",
      "In cities bustling, vibrant and alive,  \n",
      "With markets full of scent and jive,  \n",
      "The air thick with spices, sounds, and hues,  \n",
      "Underneath the moon's silver muse.\n",
      "\n",
      "The desert stretches, vast and wide,  \n",
      "A golden sea where dunes reside,  \n",
      "Each grain a story, each shift a song,  \n",
      "Where time itself does not move along.\n",
      "\n",
      "In tombs where pharaohs lay to rest,  \n",
      "Their journeys to the afterlife are blessed,  \n",
      "The gods of old, with power and might,  \n",
      "In hieroglyphs, tell through the night.\n",
      "\n",
      "Thus Egypt stands, a land of old,  \n",
      "Where past and present stories unfold,  \n",
      "A land of mystery, of life, of lore,  \n",
      "Eternal Egypt, forever more.\n"
     ]
    }
   ],
   "source": [
    "from langchain_core.prompts import ChatPromptTemplate\n",
    "from langchain_groq import ChatGroq\n",
    "from langchain_openai import ChatOpenAI\n",
    "\n",
    "prompt_template = ChatPromptTemplate.from_messages([\n",
    "     ('human', \"Write a {type} about {topic}\")   \n",
    "    ])\n",
    "\n",
    "user_input_1 = input(\"Enter what type of text you want out LLM to do?\")\n",
    "user_input_2 = input(\"Enter the Topic?\")\n",
    "\n",
    "prompt = prompt_template.invoke({\"topic\":user_input_2, \"type\":user_input_1})\n",
    "print(prompt)\n",
    "\n",
    "deepseek = ChatGroq(model=\"deepseek-r1-distill-llama-70b\")\n",
    "response = deepseek.invoke(prompt)\n",
    "print(response.content)\n"
   ]
  },
  {
   "cell_type": "code",
   "execution_count": 5,
   "id": "26133ce6",
   "metadata": {},
   "outputs": [
    {
     "name": "stdout",
     "output_type": "stream",
     "text": [
      "**Eternal Sands of Egypt** In the land where ancient secrets sleep, Where whispers of the past softly creep, A world of mystery and might does stand, In Egypt's heart, where time expands. The pyramids, like titans of old, Their peaks kissed by the sun's warm gold, Enduring giants, steadfast and true, Guarding tales of pharaohs anew. The Sphinx, with lion's grace and human gaze, A sentinel of wisdom's ancient ways, In silent vigil, through the ages stands, Where desert winds weave shifting sands. The Nile, a serpent, dark and deep, Through fertile plains its vigil keeps, Nourishing life with waters kind, A lifeline where all hearts and minds entwine. In cities bustling, vibrant and alive, With markets full of scent and jive, The air thick with spices, sounds, and hues, Underneath the moon's silver muse. The desert stretches, vast and wide, A golden sea where dunes reside, Each grain a story, each shift a song, Where time itself does not move along. In tombs where pharaohs lay to rest, Their journeys to the afterlife are blessed, The gods of old, with power and might, In hieroglyphs, tell through the night. Thus Egypt stands, a land of old, Where past and present stories unfold, A land of mystery, of life, of lore, Eternal Egypt, forever more.\n"
     ]
    }
   ],
   "source": [
    "text_listed = response.content.split()\n",
    "while \"</think>\" in text_listed:\n",
    "     text_listed.remove(text_listed[0])\n",
    "response_in_text = \" \".join(text_listed)\n",
    "print(response_in_text)"
   ]
  },
  {
   "cell_type": "code",
   "execution_count": 8,
   "id": "a5383c7e-7e62-46d0-8bef-17ff45a88495",
   "metadata": {},
   "outputs": [
    {
     "name": "stdout",
     "output_type": "stream",
     "text": [
      "prompt:\n",
      "Tell me a Funny story about Stalin.\n",
      "Answer:\n",
      "\n",
      "One day, Stalin was walking through the streets of Moscow when he saw a group of children playing with a toy tank. He stopped to watch them and was immediately reminded of his own childhood.\n",
      "\n",
      "Feeling nostalgic, Stalin decided to join in on the fun and started playing with the children. He was having a great time, pretending to be a fierce tank commander and shouting orders at the kids.\n",
      "\n",
      "Suddenly, one of the children pointed at Stalin's mustache and asked, \"Why do you have such a big mustache?\"\n",
      "\n",
      "Stalin, who was known for his temper, replied, \"Because it makes me look strong and powerful, just like a tank!\"\n",
      "\n",
      "The children giggled and one of them said, \"But it also looks like a big caterpillar on your face!\"\n",
      "\n",
      "Everyone burst into laughter, including Stalin, who couldn't help but see the humor in the situation. From that day on, whenever Stalin saw a tank or a caterpillar, he couldn't help but laugh and remember that funny day in Moscow.\n"
     ]
    }
   ],
   "source": [
    "from langchain_core.prompts import PromptTemplate\n",
    "from langchain_openai import ChatOpenAI, OpenAI\n",
    "from langchain_core.output_parsers import StrOutputParser\n",
    "\n",
    "LlmModel = OpenAI()\n",
    "\n",
    "prompt_template = PromptTemplate.from_template(\n",
    "    \"Tell me a {adjective} story about {topic}.\"\n",
    ")\n",
    "\n",
    "llmModelPrompt = prompt_template.format(\n",
    "    adjective=\"Funny\", \n",
    "    topic=\"Stalin\"\n",
    ")\n",
    "\n",
    "print(f\"prompt:\\n{llmModelPrompt}\")\n",
    "\n",
    "response = LlmModel.invoke(llmModelPrompt)\n",
    "print(f\"Answer:{response}\")\n"
   ]
  },
  {
   "cell_type": "code",
   "execution_count": 9,
   "id": "beb7dbcd-524c-4acc-9b65-0b209a170ad7",
   "metadata": {},
   "outputs": [
    {
     "name": "stdout",
     "output_type": "stream",
     "text": [
      "[SystemMessage(content='You are an Sports expert on Ronaldo.', additional_kwargs={}, response_metadata={}), HumanMessage(content='Hello, Mr. Sports, can you please answer a question?', additional_kwargs={}, response_metadata={}), AIMessage(content='Sure!', additional_kwargs={}, response_metadata={}), HumanMessage(content='How many children does Ronaldo have?', additional_kwargs={}, response_metadata={})]\n",
      "content='As of October 2023, Cristiano Ronaldo has five children. Their names are Cristiano Ronaldo Jr., twins Eva Maria and Mateo, and daughters Alana Martina and Bella. If you have any more questions about Ronaldo or his family, feel free to ask!' additional_kwargs={'refusal': None} response_metadata={'token_usage': {'completion_tokens': 51, 'prompt_tokens': 49, 'total_tokens': 100, 'completion_tokens_details': {'accepted_prediction_tokens': 0, 'audio_tokens': 0, 'reasoning_tokens': 0, 'rejected_prediction_tokens': 0}, 'prompt_tokens_details': {'audio_tokens': 0, 'cached_tokens': 0}}, 'model_name': 'gpt-4o-mini-2024-07-18', 'system_fingerprint': 'fp_34a54ae93c', 'id': 'chatcmpl-BsHDDfxBgn3uawnuYxHBPs1IxHQTJ', 'service_tier': 'default', 'finish_reason': 'stop', 'logprobs': None} id='run--7ffdd6c9-92dd-44c3-abeb-0cdbebff7268-0' usage_metadata={'input_tokens': 49, 'output_tokens': 51, 'total_tokens': 100, 'input_token_details': {'audio': 0, 'cache_read': 0}, 'output_token_details': {'audio': 0, 'reasoning': 0}}\n"
     ]
    }
   ],
   "source": [
    "from langchain_core.prompts import ChatPromptTemplate\n",
    "\n",
    "ChatModel = ChatOpenAI(model=\"gpt-4o-mini\", api_key=openai_api_key)\n",
    "\n",
    "chat_template = ChatPromptTemplate.from_messages(\n",
    "    [\n",
    "        (\"system\", \"You are an {profession} expert on {topic}.\"),\n",
    "        (\"human\", \"Hello, Mr. {profession}, can you please answer a question?\"),\n",
    "        (\"ai\", \"Sure!\"),\n",
    "        (\"human\", \"{user_input}\"),\n",
    "    ]\n",
    ")\n",
    "\n",
    "messages = chat_template.format_messages(\n",
    "    profession=\"Sports\",\n",
    "    topic=\"Ronaldo\",\n",
    "    user_input=\"How many children does Ronaldo have?\"\n",
    ")\n",
    "\n",
    "# messages = chat_template.invoke({\n",
    "#     \"profession\":\"Sports\", \n",
    "#     \"topic\":\"Ronaldo\", \n",
    "#     \"user_input\":\"How many children does Ronaldo have?\"\n",
    "#     })\n",
    "\n",
    "print(messages)\n",
    "response = ChatModel.invoke(messages)\n",
    "print(response)"
   ]
  },
  {
   "cell_type": "code",
   "execution_count": 10,
   "id": "6f6a5e25-e177-4d7a-ba29-6834a6a8152b",
   "metadata": {},
   "outputs": [
    {
     "name": "stdout",
     "output_type": "stream",
     "text": [
      "As of October 2023, Cristiano Ronaldo has five children. Their names are Cristiano Ronaldo Jr., twins Eva Maria and Mateo, and daughters Alana Martina and Bella. If you have any more questions about Ronaldo or his family, feel free to ask!\n"
     ]
    }
   ],
   "source": [
    "print(response.content)"
   ]
  },
  {
   "cell_type": "markdown",
   "id": "c649bc16",
   "metadata": {},
   "source": [
    "## Few Shot Prompting"
   ]
  },
  {
   "cell_type": "code",
   "execution_count": 11,
   "id": "c285419d",
   "metadata": {},
   "outputs": [],
   "source": [
    "from langchain_core.prompts import FewShotChatMessagePromptTemplate"
   ]
  },
  {
   "cell_type": "code",
   "execution_count": 12,
   "id": "f3ae0df0-44fe-4fd2-89a5-bac45a84e612",
   "metadata": {},
   "outputs": [
    {
     "name": "stdout",
     "output_type": "stream",
     "text": [
      "messages=[SystemMessage(content='You are an English-German translator.', additional_kwargs={}, response_metadata={}), HumanMessage(content='hi!', additional_kwargs={}, response_metadata={}), AIMessage(content='Hallo!', additional_kwargs={}, response_metadata={}), HumanMessage(content='bye!', additional_kwargs={}, response_metadata={}), AIMessage(content='Tschuss!', additional_kwargs={}, response_metadata={}), HumanMessage(content='Welcome', additional_kwargs={}, response_metadata={})]\n",
      "Willkommen!\n"
     ]
    }
   ],
   "source": [
    "examples = [\n",
    "    {\"human\": \"hi!\", \"ai\": \"Hallo!\"},\n",
    "    {\"human\": \"bye!\", \"ai\": \"Tschuss!\"},\n",
    "]\n",
    "\n",
    "example_prompt = ChatPromptTemplate.from_messages(\n",
    "    [\n",
    "        (\"human\", \"{human}\"),\n",
    "        (\"ai\", \"{ai}\"),\n",
    "    ]\n",
    ")\n",
    "\n",
    "few_shot_prompt = FewShotChatMessagePromptTemplate(\n",
    "    example_prompt=example_prompt,\n",
    "    examples=examples,\n",
    ")\n",
    "\n",
    "final_prompt = ChatPromptTemplate.from_messages(\n",
    "    [\n",
    "        (\"system\", \"You are an English-German translator.\"),\n",
    "        few_shot_prompt,\n",
    "        (\"human\", \"{input}\"),\n",
    "    ]\n",
    ")\n",
    "\n",
    "user_input = input(\"Enter the word you want to translate:\\n\")\n",
    "\n",
    "final_prompt_formatted = final_prompt.invoke({\"input\":user_input})\n",
    "print(final_prompt_formatted)\n",
    "\n",
    "response = ChatModel.invoke(final_prompt_formatted)\n",
    "print(response.content)"
   ]
  },
  {
   "cell_type": "code",
   "execution_count": 14,
   "id": "850296b2",
   "metadata": {},
   "outputs": [
    {
     "name": "stdout",
     "output_type": "stream",
     "text": [
      "content='Willkommen!' additional_kwargs={'refusal': None} response_metadata={'token_usage': {'completion_tokens': 3, 'prompt_tokens': 46, 'total_tokens': 49, 'completion_tokens_details': {'accepted_prediction_tokens': 0, 'audio_tokens': 0, 'reasoning_tokens': 0, 'rejected_prediction_tokens': 0}, 'prompt_tokens_details': {'audio_tokens': 0, 'cached_tokens': 0}}, 'model_name': 'gpt-4o-mini-2024-07-18', 'system_fingerprint': None, 'id': 'chatcmpl-BsHE6NvIcT73ch2syFCNYpWONxiS5', 'service_tier': 'default', 'finish_reason': 'stop', 'logprobs': None} id='run--cee716e3-743e-4c85-ba7b-bebc6a1bb31b-0' usage_metadata={'input_tokens': 46, 'output_tokens': 3, 'total_tokens': 49, 'input_token_details': {'audio': 0, 'cache_read': 0}, 'output_token_details': {'audio': 0, 'reasoning': 0}}\n"
     ]
    }
   ],
   "source": [
    "chain = final_prompt | ChatModel\n",
    "response = chain.invoke({\"input\":user_input})\n",
    "print(response)\n"
   ]
  },
  {
   "cell_type": "markdown",
   "id": "03853f1b",
   "metadata": {},
   "source": [
    "# Quick revision"
   ]
  },
  {
   "cell_type": "code",
   "execution_count": 15,
   "id": "5ade47e4",
   "metadata": {},
   "outputs": [],
   "source": [
    "import os\n",
    "from dotenv import load_dotenv\n",
    "from langchain_openai import ChatOpenAI\n",
    "from langchain_core.prompts import ChatPromptTemplate"
   ]
  },
  {
   "cell_type": "code",
   "execution_count": 16,
   "id": "4cf42040",
   "metadata": {},
   "outputs": [
    {
     "data": {
      "text/plain": [
       "True"
      ]
     },
     "execution_count": 16,
     "metadata": {},
     "output_type": "execute_result"
    }
   ],
   "source": [
    "load_dotenv()"
   ]
  },
  {
   "cell_type": "code",
   "execution_count": 22,
   "id": "daabf181",
   "metadata": {},
   "outputs": [],
   "source": [
    "def with_no_chain(input):\n",
    "    prompt = ChatPromptTemplate.from_template(\n",
    "        \"\"\"Tell a story about {player} in 100 words\"\"\"\n",
    "    )\n",
    "    \n",
    "    prompt = prompt.invoke(input)\n",
    "    \n",
    "    ChatModel = ChatOpenAI(model=\"gpt-4o-mini\", api_key=os.getenv(\"OPENAI_API_KEY\"))\n",
    "    \n",
    "    response = ChatModel.invoke(prompt)\n",
    "    \n",
    "    print(f\"response withno parser:\\n{response}\\n\\n\")"
   ]
  },
  {
   "cell_type": "code",
   "execution_count": 23,
   "id": "ab0c9865",
   "metadata": {},
   "outputs": [],
   "source": [
    "def using_chain(input):\n",
    "    prompt = ChatPromptTemplate.from_template(\n",
    "        \"\"\"Tell a story about {player} in 100 words\"\"\"\n",
    "    )\n",
    "\n",
    "    ChatModel = ChatOpenAI(model=\"gpt-4o-mini\", api_key=os.getenv(\"OPENAI_API_KEY\"))\n",
    "    \n",
    "    chain = prompt | ChatModel\n",
    "    \n",
    "    response = chain.invoke(input)\n",
    "    \n",
    "    print(f\"response:\\n{response}\")"
   ]
  },
  {
   "cell_type": "code",
   "execution_count": 24,
   "id": "24d7a879",
   "metadata": {},
   "outputs": [
    {
     "name": "stdout",
     "output_type": "stream",
     "text": [
      "response withno parser:\n",
      "content='In a bustling stadium, the air buzzed with anticipation. Cristiano Ronaldo, the legendary forward, stood at the edge of the pitch, heart racing. The match was tied, and only seconds remained. With a swift glance, he spotted the keeper off his line. Gathering his strength, Ronaldo sprinted forward, the ball glued to his feet. As he reached the penalty area, he executed a stunning feint, leaving defenders in his wake. With a powerful strike, the ball soared into the net, sending the crowd into ecstasy. Ronaldo raised his arms, a triumphant smile illuminating his face—a reminder that dreams are worth chasing.' additional_kwargs={'refusal': None} response_metadata={'token_usage': {'completion_tokens': 128, 'prompt_tokens': 16, 'total_tokens': 144, 'completion_tokens_details': {'accepted_prediction_tokens': 0, 'audio_tokens': 0, 'reasoning_tokens': 0, 'rejected_prediction_tokens': 0}, 'prompt_tokens_details': {'audio_tokens': 0, 'cached_tokens': 0}}, 'model_name': 'gpt-4o-mini-2024-07-18', 'system_fingerprint': None, 'id': 'chatcmpl-BsHJ46MZFqraFVRpzRKijNBAmZi3u', 'service_tier': 'default', 'finish_reason': 'stop', 'logprobs': None} id='run--8a782396-1a44-460f-abf3-b790071c09c8-0' usage_metadata={'input_tokens': 16, 'output_tokens': 128, 'total_tokens': 144, 'input_token_details': {'audio': 0, 'cache_read': 0}, 'output_token_details': {'audio': 0, 'reasoning': 0}}\n",
      "\n",
      "\n"
     ]
    }
   ],
   "source": [
    "with_no_chain(\"Ronaldo\")"
   ]
  },
  {
   "cell_type": "code",
   "execution_count": 25,
   "id": "6a72b693",
   "metadata": {},
   "outputs": [
    {
     "name": "stdout",
     "output_type": "stream",
     "text": [
      "response:\n",
      "content='Once upon a time in a small town in Madeira, a young boy named Ronaldo dreamed of becoming a football star. With relentless determination, he practiced daily, honing his skills on a rough patch of grass. At 12, he moved to Lisbon, leaving his family behind. The struggles were immense, but his passion ignited hope. \\n\\nYears later, wearing the iconic Real Madrid jersey, he dazzled fans worldwide with his speed and skill. He broke records, won countless trophies, yet remained humble. Always giving back, he inspired countless young athletes, proving that dreams, fueled by hard work and heart, truly come true.' additional_kwargs={'refusal': None} response_metadata={'token_usage': {'completion_tokens': 126, 'prompt_tokens': 16, 'total_tokens': 142, 'completion_tokens_details': {'accepted_prediction_tokens': 0, 'audio_tokens': 0, 'reasoning_tokens': 0, 'rejected_prediction_tokens': 0}, 'prompt_tokens_details': {'audio_tokens': 0, 'cached_tokens': 0}}, 'model_name': 'gpt-4o-mini-2024-07-18', 'system_fingerprint': None, 'id': 'chatcmpl-BsHJ86A8XtBEIElRVCNjz4b2Bynqm', 'service_tier': 'default', 'finish_reason': 'stop', 'logprobs': None} id='run--d599b070-342c-49f9-bb05-3acad33a62da-0' usage_metadata={'input_tokens': 16, 'output_tokens': 126, 'total_tokens': 142, 'input_token_details': {'audio': 0, 'cache_read': 0}, 'output_token_details': {'audio': 0, 'reasoning': 0}}\n"
     ]
    }
   ],
   "source": [
    "using_chain(\"Ronaldo\")"
   ]
  }
 ],
 "metadata": {
  "kernelspec": {
   "display_name": "session-one",
   "language": "python",
   "name": "python3"
  },
  "language_info": {
   "codemirror_mode": {
    "name": "ipython",
    "version": 3
   },
   "file_extension": ".py",
   "mimetype": "text/x-python",
   "name": "python",
   "nbconvert_exporter": "python",
   "pygments_lexer": "ipython3",
   "version": "3.11.13"
  }
 },
 "nbformat": 4,
 "nbformat_minor": 5
}
