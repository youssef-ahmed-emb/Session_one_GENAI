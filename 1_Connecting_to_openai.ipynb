{
 "cells": [
  {
   "cell_type": "markdown",
   "id": "465c003a-29cf-4cfe-a0c6-d36c04ae2b37",
   "metadata": {},
   "source": [
    "# Connect with an LLM\n",
    "* Start talking with ChatGPT."
   ]
  },
  {
   "cell_type": "markdown",
   "id": "8332b6e9-8164-4859-879c-f021a4dfd69d",
   "metadata": {},
   "source": [
    "## LangChain divides LLMs in two types\n",
    "1. LLM Model: text-completion model.\n",
    "2. Chat Model: converses with a sequence of messages and can have a particular role defined (system prompt). This type has become the most used in LangChain.\n"
   ]
  },
  {
   "cell_type": "markdown",
   "id": "5a2f9501-fa9e-4830-95e2-537dff951cf1",
   "metadata": {},
   "source": [
    "## List of LLMs that can work with LangChain\n",
    "* See the list [here](https://python.langchain.com/docs/integrations/llms/)."
   ]
  },
  {
   "cell_type": "markdown",
   "id": "af743328-1bc8-4b01-85fb-fcb21c6499c2",
   "metadata": {},
   "source": [
    "## Create your .env file\n",
    "* In the github repo we have included a file named .env.example\n",
    "* Rename that file to .env file and here is where you will add your confidential api keys. Remember to include:\n",
    "* OPENAI_API_KEY=your_openai_api_key"
   ]
  },
  {
   "cell_type": "markdown",
   "id": "de4ba351-2cfb-4b93-9c79-3c1100e2e291",
   "metadata": {},
   "source": [
    "## Connect with the .env file located in the same directory of this notebook"
   ]
  },
  {
   "cell_type": "markdown",
   "id": "36eaf7e9-acf2-4729-b54c-a8fb6ad2ae1a",
   "metadata": {},
   "source": [
    "If you are using the UV, you do not need to install the following package because it is already pre-loaded for you:"
   ]
  },
  {
   "cell_type": "code",
   "execution_count": null,
   "id": "e9a10870-432e-4818-aa5e-6be24c579d39",
   "metadata": {},
   "outputs": [],
   "source": [
    "#pip install python-dotenv"
   ]
  },
  {
   "cell_type": "code",
   "execution_count": 2,
   "id": "fecd39d0-e72e-4bc2-8a68-2fa4008ea365",
   "metadata": {},
   "outputs": [],
   "source": [
    "import os\n",
    "from dotenv import load_dotenv\n",
    "load_dotenv()\n",
    "openai_api_key = os.getenv(\"OPENAI_API_KEY\")"
   ]
  },
  {
   "cell_type": "markdown",
   "id": "03f4a923-b19e-498e-9be5-e47ec4a77d80",
   "metadata": {},
   "source": [
    "#### Install LangChain"
   ]
  },
  {
   "cell_type": "markdown",
   "id": "6fa888f7-3718-4829-8645-30acb43db51f",
   "metadata": {},
   "source": [
    "If you are using UV, you do not need to install the following package because it is already pre-loaded for you:"
   ]
  },
  {
   "cell_type": "code",
   "execution_count": 3,
   "id": "c1cf94ae-6c39-4475-9c5b-4b74d8d78753",
   "metadata": {},
   "outputs": [],
   "source": [
    "#!pip install langchain"
   ]
  },
  {
   "cell_type": "markdown",
   "id": "189e9e17-dfb0-4fd3-85b9-1fba83771941",
   "metadata": {},
   "source": [
    "## Connect with an LLM"
   ]
  },
  {
   "cell_type": "markdown",
   "id": "4d5d5b71-b26a-4cd5-9765-019077a67141",
   "metadata": {},
   "source": [
    "If you are using UV, you do not need to install the following package because it is already pre-loaded for you:"
   ]
  },
  {
   "cell_type": "code",
   "execution_count": 4,
   "id": "148df8e0-361d-4ddd-8709-af48fa1648d1",
   "metadata": {},
   "outputs": [],
   "source": [
    "#!pip install langchain-openai"
   ]
  },
  {
   "cell_type": "markdown",
   "id": "fbf1d17b-6d15-423b-b554-26d6d977ca27",
   "metadata": {},
   "source": [
    "## LLM Model\n",
    "* The trend before the launch of chatGPT-4.\n",
    "* See LangChain documentation about LLM Models [here](https://python.langchain.com/v0.1/docs/modules/model_io/llms/)."
   ]
  },
  {
   "cell_type": "code",
   "execution_count": 3,
   "id": "e92628f2-62e8-436c-92d4-e849de7744ad",
   "metadata": {},
   "outputs": [],
   "source": [
    "from langchain_openai import OpenAI\n",
    "\n",
    "llmModel = OpenAI(api_key=openai_api_key)"
   ]
  },
  {
   "cell_type": "markdown",
   "id": "bdeaf300-5cb6-4df8-bcb9-1fe3c82e4b22",
   "metadata": {},
   "source": [
    "#### Invoke: all the text of the reponse is printed at once."
   ]
  },
  {
   "cell_type": "code",
   "execution_count": 4,
   "id": "93ade5fa-b487-4f32-bda7-0f9c41b096b5",
   "metadata": {},
   "outputs": [],
   "source": [
    "response = llmModel.invoke(\n",
    "    \"Who is Ronaldo?\"\n",
    ")"
   ]
  },
  {
   "cell_type": "code",
   "execution_count": 5,
   "id": "a33285ef-4bb5-4fd6-9894-790c07a5468c",
   "metadata": {},
   "outputs": [
    {
     "data": {
      "text/plain": [
       "str"
      ]
     },
     "execution_count": 5,
     "metadata": {},
     "output_type": "execute_result"
    }
   ],
   "source": [
    "type(response)"
   ]
  },
  {
   "cell_type": "code",
   "execution_count": 6,
   "id": "3aa71043-4707-44b4-8d1f-8540d5d139b2",
   "metadata": {},
   "outputs": [
    {
     "name": "stdout",
     "output_type": "stream",
     "text": [
      "\n",
      "\n",
      "Ronaldo is a professional football (soccer) player from Portugal. He is widely regarded as one of the greatest footballers of all time and has won numerous awards and accolades throughout his career. He has played for top clubs such as Manchester United, Real Madrid, and Juventus, and has also represented the Portuguese national team. He is known for his exceptional dribbling skills, speed, and goal-scoring abilities.\n"
     ]
    }
   ],
   "source": [
    "print(response)"
   ]
  },
  {
   "cell_type": "markdown",
   "id": "9b4c29ae-d60a-44c7-925c-20084c0b941e",
   "metadata": {},
   "source": [
    "#### Streaming: printing one chunk of text at a time"
   ]
  },
  {
   "cell_type": "code",
   "execution_count": 7,
   "id": "158aa111-9167-444c-9b10-90b095eac390",
   "metadata": {},
   "outputs": [
    {
     "name": "stdout",
     "output_type": "stream",
     "text": [
      "\n",
      "\n",
      "One fun fact about the Kennedy family is that John F. Kennedy, the 35th President of the United States, had a pet canary named Robin that would often sit on his shoulder during meetings in the Oval Office."
     ]
    }
   ],
   "source": [
    "for chunk in llmModel.stream(\n",
    "    \"Tell me one fun fact about the Kennedy family.\"\n",
    "):\n",
    "    print(chunk, end=\"\", flush=True)"
   ]
  },
  {
   "cell_type": "markdown",
   "id": "98101f10-6349-4f98-9fb7-a1400166cedc",
   "metadata": {},
   "source": [
    "#### Temperature: more or less creativity"
   ]
  },
  {
   "cell_type": "code",
   "execution_count": 8,
   "id": "ac12473a-1ffd-4a22-852a-92e1e6374914",
   "metadata": {},
   "outputs": [],
   "source": [
    "creativeLlmModel = OpenAI(temperature=0.9)"
   ]
  },
  {
   "cell_type": "code",
   "execution_count": 9,
   "id": "325b9b2a-c61d-4264-81bf-71090f9b0151",
   "metadata": {},
   "outputs": [],
   "source": [
    "response = llmModel.invoke(\n",
    "    \"Write a short 5 line poem about Ronaldo\"\n",
    ")"
   ]
  },
  {
   "cell_type": "code",
   "execution_count": 10,
   "id": "679c1220-13ed-4251-ba4b-f8f1ba350f2d",
   "metadata": {},
   "outputs": [
    {
     "name": "stdout",
     "output_type": "stream",
     "text": [
      "\n",
      "\n",
      "With skills like lightning, he strikes the ball  \n",
      "On the field, he stands tall  \n",
      "His name is known by one and all  \n",
      "Ronaldo, the greatest of them all  \n",
      "A legend in every football fan's heart, he will forever enthrall\n"
     ]
    }
   ],
   "source": [
    "print(response)"
   ]
  },
  {
   "cell_type": "code",
   "execution_count": 11,
   "id": "1b663e0e",
   "metadata": {},
   "outputs": [
    {
     "name": "stdout",
     "output_type": "stream",
     "text": [
      "\n",
      "\n",
      "Ronaldo, a football king\n",
      "With skills that make us sing\n",
      "His speed and grace, a sight to see\n",
      "On the field, he's truly free\n",
      "Ronaldo, forever our MVP.\n"
     ]
    }
   ],
   "source": [
    "not_creativeLlmModel = OpenAI(temperature=0.1)\n",
    "response = not_creativeLlmModel.invoke(\"Write a short 5 line poem about Ronaldo\")\n",
    "print(response)"
   ]
  },
  {
   "cell_type": "markdown",
   "id": "31346a0c-ee9c-4a80-8e8a-85ef682df7c3",
   "metadata": {},
   "source": [
    "## Chat Model\n",
    "* The general trend after the launch of chatGPT-4.\n",
    "    * Frequently known as \"Chatbot\". \n",
    "    * Conversation between Human and AI.\n",
    "    * Can have a system prompt defining the tone or the role of the AI. \n",
    "* See LangChain documentation about Chat Models [here](https://python.langchain.com/docs/concepts/chat_models/)."
   ]
  },
  {
   "cell_type": "code",
   "execution_count": 13,
   "id": "b14d27c3-0b1b-4b11-a883-8da2734f21a7",
   "metadata": {},
   "outputs": [],
   "source": [
    "from langchain_openai import ChatOpenAI\n",
    "\n",
    "chatModel = ChatOpenAI(model=\"gpt-4o-mini\",api_key=openai_api_key)"
   ]
  },
  {
   "cell_type": "code",
   "execution_count": 14,
   "id": "5071ae5e",
   "metadata": {},
   "outputs": [
    {
     "name": "stdout",
     "output_type": "stream",
     "text": [
      "content='Ronaldo typically refers to two well-known football (soccer) players: Cristiano Ronaldo and Ronaldo Nazário, commonly known as Ronaldo Fenômeno.\\n\\n1. **Cristiano Ronaldo**: Born on February 5, 1985, in Funchal, Madeira, Portugal, he is often regarded as one of the greatest football players of all time. He has played for several elite clubs, including Sporting Lisbon, Manchester United, Real Madrid, and Juventus, and has returned to Manchester United in 2021. He is known for his incredible goal-scoring ability, athleticism, and versatility on the field. As of my last update, he has won multiple Ballon d\\'Or awards and has set numerous records in both club and international football.\\n\\n2. **Ronaldo Nazário**: Born on September 18, 1976, in Rio de Janeiro, Brazil, he is often referred to simply as Ronaldo or \"El Fenómeno.\" He is celebrated for his remarkable skill, speed, and goal-scoring ability. He had a successful career playing for clubs like Cruzeiro, PSV Eindhoven, Barcelona, Inter Milan, Real Madrid, and AC Milan. Ronaldo won two FIFA World Cups with Brazil (in 1994 and 2002) and is considered one of the greatest strikers in the history of football.\\n\\nBoth players have had significant impacts on the sport and have left lasting legacies.' additional_kwargs={'refusal': None} response_metadata={'token_usage': {'completion_tokens': 286, 'prompt_tokens': 11, 'total_tokens': 297, 'completion_tokens_details': {'accepted_prediction_tokens': 0, 'audio_tokens': 0, 'reasoning_tokens': 0, 'rejected_prediction_tokens': 0}, 'prompt_tokens_details': {'audio_tokens': 0, 'cached_tokens': 0}}, 'model_name': 'gpt-4o-mini-2024-07-18', 'system_fingerprint': None, 'id': 'chatcmpl-BsGvGnsnjmRZVE9C0ZTW4iTZO2vUs', 'service_tier': 'default', 'finish_reason': 'stop', 'logprobs': None} id='run--3fb121bb-e08d-4070-9c81-5366cc785d33-0' usage_metadata={'input_tokens': 11, 'output_tokens': 286, 'total_tokens': 297, 'input_token_details': {'audio': 0, 'cache_read': 0}, 'output_token_details': {'audio': 0, 'reasoning': 0}}\n"
     ]
    }
   ],
   "source": [
    "response = chatModel.invoke(\"Who is Ronaldo?\")\n",
    "print(response)"
   ]
  },
  {
   "cell_type": "code",
   "execution_count": 15,
   "id": "930609d5",
   "metadata": {},
   "outputs": [
    {
     "data": {
      "text/plain": [
       "langchain_core.messages.ai.AIMessage"
      ]
     },
     "execution_count": 15,
     "metadata": {},
     "output_type": "execute_result"
    }
   ],
   "source": [
    "type(response)"
   ]
  },
  {
   "cell_type": "code",
   "execution_count": 16,
   "id": "e3c32ec3",
   "metadata": {},
   "outputs": [
    {
     "data": {
      "text/plain": [
       "'Ronaldo typically refers to two well-known football (soccer) players: Cristiano Ronaldo and Ronaldo Nazário, commonly known as Ronaldo Fenômeno.\\n\\n1. **Cristiano Ronaldo**: Born on February 5, 1985, in Funchal, Madeira, Portugal, he is often regarded as one of the greatest football players of all time. He has played for several elite clubs, including Sporting Lisbon, Manchester United, Real Madrid, and Juventus, and has returned to Manchester United in 2021. He is known for his incredible goal-scoring ability, athleticism, and versatility on the field. As of my last update, he has won multiple Ballon d\\'Or awards and has set numerous records in both club and international football.\\n\\n2. **Ronaldo Nazário**: Born on September 18, 1976, in Rio de Janeiro, Brazil, he is often referred to simply as Ronaldo or \"El Fenómeno.\" He is celebrated for his remarkable skill, speed, and goal-scoring ability. He had a successful career playing for clubs like Cruzeiro, PSV Eindhoven, Barcelona, Inter Milan, Real Madrid, and AC Milan. Ronaldo won two FIFA World Cups with Brazil (in 1994 and 2002) and is considered one of the greatest strikers in the history of football.\\n\\nBoth players have had significant impacts on the sport and have left lasting legacies.'"
      ]
     },
     "execution_count": 16,
     "metadata": {},
     "output_type": "execute_result"
    }
   ],
   "source": [
    "response.content"
   ]
  },
  {
   "cell_type": "code",
   "execution_count": 18,
   "id": "0eaa967e-067f-4574-8cbc-b1e5b7956fa2",
   "metadata": {},
   "outputs": [],
   "source": [
    "messages = [\n",
    "    (\"system\", \"You are an historian expert in the Egyptian history.\"),\n",
    "    (\"human\", \"Write a 400 word essy about Egypt.\"),\n",
    "]\n",
    "response = chatModel.invoke(messages)"
   ]
  },
  {
   "cell_type": "code",
   "execution_count": 19,
   "id": "2f567f5a-c4ea-4234-84e6-422bf6104589",
   "metadata": {},
   "outputs": [
    {
     "name": "stdout",
     "output_type": "stream",
     "text": [
      "Egypt, a nation with one of the most storied histories in the world, straddles the border between Africa and Asia and is often regarded as the cradle of civilization. The foundations of Egyptian civilization were laid more than 5,000 years ago, primarily along the fertile banks of the Nile River, which provided a lifeline in an otherwise arid landscape. This natural resource enabled the development of agriculture, trade, and eventually, a highly organized social structure.\n",
      "\n",
      "The ancient Egyptians are perhaps best known for their monumental architecture and contributions to art and science. The construction of the pyramids, particularly the Great Pyramid of Giza, stands as a testament to their architectural prowess and their understanding of mathematics and astronomy. These awe-inspiring structures served as tombs for pharaohs and underscored the Egyptians' belief in the afterlife. The pharaoh, considered both a political leader and a divine figure, held immense power and was viewed as the intermediary between the gods and the people.\n",
      "\n",
      "Religion played a central role in Egyptian society. With a complex pantheon of gods and goddesses, the Egyptians practiced rituals that were deeply intertwined with their daily lives. Temples, such as those at Karnak and Luxor, were hubs of worship and economic activity, where priesthoods wielded significant influence. The practice of mummification, developed to preserve bodies for the afterlife, exemplified their belief in immortality and the afterlife.\n",
      "\n",
      "Throughout its history, Egypt was subject to invasions and foreign rule, including periods under the Assyrians, Persians, Greeks, and Romans. The conquest by Alexander the Great in 332 BCE marked the beginning of the Hellenistic period, which saw a fusion of Greek and Egyptian cultures. The city of Alexandria became a beacon of knowledge, housing the famous Library of Alexandria, which attracted scholars from across the ancient world.\n",
      "\n",
      "The arrival of Islam in the 7th century CE brought significant cultural and religious transformation, laying the groundwork for modern Egypt. The Mamluk Sultanate and later the Ottoman Empire dominated the region until the 19th century when Egypt underwent modernization under leaders like Muhammad Ali.\n",
      "\n",
      "Today, Egypt stands at the crossroads of its illustrious past and contemporary challenges. It remains a vital link between Africa and the Middle East, with a rich cultural heritage that continues to fascinate and inspire people worldwide. The ancient ruins, art, and contributions of Egypt continue to cast a long shadow over the narrative of human history, reminding us of the enduring power of civilization.\n"
     ]
    }
   ],
   "source": [
    "print(response.content)"
   ]
  },
  {
   "cell_type": "code",
   "execution_count": 20,
   "id": "16195c5b",
   "metadata": {},
   "outputs": [
    {
     "name": "stdout",
     "output_type": "stream",
     "text": [
      "One fun fact about the Kennedy family is that they have a long tradition of competitive sailing. The family has been involved in sailing for generations, with many members, including President John F. Kennedy and his brothers, participating in various sailing races. The Kennedy family owned a yacht named \"Victura,\" which is famously associated with the family's sailing history, and it was during a sailing trip that JFK met his future wife, Jacqueline Bouvier. This affinity for sailing has become an emblem of the family's adventurous spirit and connection to the ocean."
     ]
    }
   ],
   "source": [
    "for chunk in chatModel.stream(\n",
    "    \"Tell me one fun fact about the Kennedy family.\"\n",
    "):\n",
    "    print(chunk.content, end=\"\", flush=True)"
   ]
  },
  {
   "cell_type": "code",
   "execution_count": 21,
   "id": "19a6abd4-a072-47ea-ae60-7959def9b602",
   "metadata": {},
   "outputs": [
    {
     "data": {
      "text/plain": [
       "\"Egypt, a nation with one of the most storied histories in the world, straddles the border between Africa and Asia and is often regarded as the cradle of civilization. The foundations of Egyptian civilization were laid more than 5,000 years ago, primarily along the fertile banks of the Nile River, which provided a lifeline in an otherwise arid landscape. This natural resource enabled the development of agriculture, trade, and eventually, a highly organized social structure.\\n\\nThe ancient Egyptians are perhaps best known for their monumental architecture and contributions to art and science. The construction of the pyramids, particularly the Great Pyramid of Giza, stands as a testament to their architectural prowess and their understanding of mathematics and astronomy. These awe-inspiring structures served as tombs for pharaohs and underscored the Egyptians' belief in the afterlife. The pharaoh, considered both a political leader and a divine figure, held immense power and was viewed as the intermediary between the gods and the people.\\n\\nReligion played a central role in Egyptian society. With a complex pantheon of gods and goddesses, the Egyptians practiced rituals that were deeply intertwined with their daily lives. Temples, such as those at Karnak and Luxor, were hubs of worship and economic activity, where priesthoods wielded significant influence. The practice of mummification, developed to preserve bodies for the afterlife, exemplified their belief in immortality and the afterlife.\\n\\nThroughout its history, Egypt was subject to invasions and foreign rule, including periods under the Assyrians, Persians, Greeks, and Romans. The conquest by Alexander the Great in 332 BCE marked the beginning of the Hellenistic period, which saw a fusion of Greek and Egyptian cultures. The city of Alexandria became a beacon of knowledge, housing the famous Library of Alexandria, which attracted scholars from across the ancient world.\\n\\nThe arrival of Islam in the 7th century CE brought significant cultural and religious transformation, laying the groundwork for modern Egypt. The Mamluk Sultanate and later the Ottoman Empire dominated the region until the 19th century when Egypt underwent modernization under leaders like Muhammad Ali.\\n\\nToday, Egypt stands at the crossroads of its illustrious past and contemporary challenges. It remains a vital link between Africa and the Middle East, with a rich cultural heritage that continues to fascinate and inspire people worldwide. The ancient ruins, art, and contributions of Egypt continue to cast a long shadow over the narrative of human history, reminding us of the enduring power of civilization.\""
      ]
     },
     "execution_count": 21,
     "metadata": {},
     "output_type": "execute_result"
    }
   ],
   "source": [
    "response.content"
   ]
  },
  {
   "cell_type": "code",
   "execution_count": 22,
   "id": "f1053c22",
   "metadata": {},
   "outputs": [
    {
     "data": {
      "text/plain": [
       "{'token_usage': {'completion_tokens': 506,\n",
       "  'prompt_tokens': 31,\n",
       "  'total_tokens': 537,\n",
       "  'completion_tokens_details': {'accepted_prediction_tokens': 0,\n",
       "   'audio_tokens': 0,\n",
       "   'reasoning_tokens': 0,\n",
       "   'rejected_prediction_tokens': 0},\n",
       "  'prompt_tokens_details': {'audio_tokens': 0, 'cached_tokens': 0}},\n",
       " 'model_name': 'gpt-4o-mini-2024-07-18',\n",
       " 'system_fingerprint': None,\n",
       " 'id': 'chatcmpl-BsGvuV7EYkxRQFxe3ejj4kHPd8xO4',\n",
       " 'service_tier': 'default',\n",
       " 'finish_reason': 'stop',\n",
       " 'logprobs': None}"
      ]
     },
     "execution_count": 22,
     "metadata": {},
     "output_type": "execute_result"
    }
   ],
   "source": [
    "response.response_metadata"
   ]
  },
  {
   "cell_type": "code",
   "execution_count": 23,
   "id": "9212fb69",
   "metadata": {},
   "outputs": [
    {
     "data": {
      "text/plain": [
       "{'refusal': None}"
      ]
     },
     "execution_count": 23,
     "metadata": {},
     "output_type": "execute_result"
    }
   ],
   "source": [
    "response.additional_kwargs"
   ]
  }
 ],
 "metadata": {
  "kernelspec": {
   "display_name": "session-one",
   "language": "python",
   "name": "python3"
  },
  "language_info": {
   "codemirror_mode": {
    "name": "ipython",
    "version": 3
   },
   "file_extension": ".py",
   "mimetype": "text/x-python",
   "name": "python",
   "nbconvert_exporter": "python",
   "pygments_lexer": "ipython3",
   "version": "3.11.13"
  }
 },
 "nbformat": 4,
 "nbformat_minor": 5
}
